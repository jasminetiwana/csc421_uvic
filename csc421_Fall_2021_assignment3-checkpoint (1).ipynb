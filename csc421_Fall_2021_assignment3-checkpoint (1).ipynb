{
 "cells": [
  {
   "cell_type": "markdown",
   "metadata": {},
   "source": [
    "# CSC421 Fall 2021 Assignment 3 \n",
    "### Author: George Tzanetakis \n",
    "\n",
    "This notebook is based on the topics covered in **Chapter 12 - Quantifying Uncertainty **, **Chapter 13 Probabilistic Reasoning** from the book *Artificial Intelligence: A Modern Approach.*  You are welcome and actually it can be educational to look at the code at the aima-code repository as well as other code resources you can find on the web. However, make sure you understand any code that you incoporate. \n",
    "\n",
    "The assignment structure is as follows - each item is worth 1 point: \n",
    "\n",
    "1. Snakes and ladder simulation (Basic) - basic rolling and movement simulation, no ladders/snakes \n",
    "2. Snakes and ladder simulation (Basic) - multiple simulations and recording of number of rolls \n",
    "3. Snakes and ladder simulation (Expected) - adding of user-specified ladders/snakes \n",
    "4. Snakes and ladder simulation (Expected) - simulation to determine probability distribution of number of rolls \n",
    "5. Snakes and ladder simulation (Advanced) - exact inference + simulation with different ending rules \n",
    "6. Naive Bayes text classsification (Basic) - conditional probabilities for dictionary words \n",
    "7. Naive Bayes text classification (Basic) - markdown equations for Bernoulli \n",
    "8. Naive Bayes text classification (Expected) - prediction of movie review polarity \n",
    "9. Naive Bayes text classification (Expected) - classification accuracy and confusion matrix \n",
    "10. Naive Bayes text classification (Advanced) - probabilitistic generation of movie reviews \n",
    "\n",
    "The grading will be done in 0.5 increments. 1 point for correct answer, 0.5 points for partial or incorrect \n",
    "but reasonable answer and 0.0 for no answer or completely wrong answer. \n"
   ]
  },
  {
   "cell_type": "markdown",
   "metadata": {},
   "source": [
    "# Introduction \n",
    "\n",
    "This question uses the board game of snakes and ladders to explore the concepts behind probability, \n",
    "stochastic simulation as well as exact and approximate inference. I assume that most of you are familiar \n",
    "with snakes and ladders. If you need a refresher check the following link: \n",
    "\n",
    "https://www.ymimports.com/pages/how-to-play-snakes-and-ladders\n",
    "\n",
    "\n"
   ]
  },
  {
   "cell_type": "code",
   "execution_count": 1,
   "metadata": {},
   "outputs": [
    {
     "name": "stdout",
     "output_type": "stream",
     "text": [
      "Collecting matplotlib\n",
      "  Using cached matplotlib-3.4.3-cp39-cp39-manylinux1_x86_64.whl (10.3 MB)\n",
      "Requirement already satisfied: pyparsing>=2.2.1 in /opt/conda/lib/python3.9/site-packages (from matplotlib) (2.4.7)\n",
      "Collecting kiwisolver>=1.0.1\n",
      "  Using cached kiwisolver-1.3.2-cp39-cp39-manylinux_2_12_x86_64.manylinux2010_x86_64.whl (1.6 MB)\n",
      "Collecting cycler>=0.10\n",
      "  Using cached cycler-0.11.0-py3-none-any.whl (6.4 kB)\n",
      "Collecting pillow>=6.2.0\n",
      "  Using cached Pillow-8.4.0-cp39-cp39-manylinux_2_17_x86_64.manylinux2014_x86_64.whl (3.1 MB)\n",
      "Requirement already satisfied: python-dateutil>=2.7 in /opt/conda/lib/python3.9/site-packages (from matplotlib) (2.8.1)\n",
      "Collecting numpy>=1.16\n",
      "  Using cached numpy-1.21.4-cp39-cp39-manylinux_2_12_x86_64.manylinux2010_x86_64.whl (15.7 MB)\n",
      "Requirement already satisfied: six>=1.5 in /opt/conda/lib/python3.9/site-packages (from python-dateutil>=2.7->matplotlib) (1.16.0)\n",
      "Installing collected packages: pillow, numpy, kiwisolver, cycler, matplotlib\n",
      "Successfully installed cycler-0.11.0 kiwisolver-1.3.2 matplotlib-3.4.3 numpy-1.21.4 pillow-8.4.0\n",
      "Note: you may need to restart the kernel to use updated packages.\n"
     ]
    }
   ],
   "source": [
    "pip install matplotlib\n"
   ]
  },
  {
   "cell_type": "markdown",
   "metadata": {},
   "source": [
    "# Question 1 (Basic)  - 1 point\n",
    "\n",
    "Your first task will be to write a simple movement simulator on a snakes and ladders board. \n",
    "For this question you can ignore the snakes and ladders and just simply assume you only \n",
    "have to deal with moving. You will need to simulate rolling the die - this can be done \n",
    "by using the Python *random* module and the *randint* method. Your function *play_game* \n",
    "will take as input the length of the board (an integer), \"play\" the game by rolling the die \n",
    "multiple times until the sum of rolls is larger or equal to the length of the board.  (note: \n",
    "this is one of the possible and simplest end rules). The function should return the total \n",
    "number of rolls required to finish the the particular game that was played. Obviously \n",
    "this number will vary as it depends on the specific random rolls performed during the movement \n",
    "simulation. \n",
    "\n",
    "\n",
    "\n",
    "\n"
   ]
  },
  {
   "cell_type": "code",
   "execution_count": 3,
   "metadata": {},
   "outputs": [
    {
     "data": {
      "text/plain": [
       "34"
      ]
     },
     "execution_count": 3,
     "metadata": {},
     "output_type": "execute_result"
    }
   ],
   "source": [
    "# YOUR CODE GOES HERE \n",
    "import random\n",
    "def play_game(length):\n",
    "    sum_of_rolls = 0\n",
    "    no_of_rolls = 0\n",
    "    while (sum_of_rolls < length):\n",
    "        roll = random.randint(1,6)\n",
    "        no_of_rolls += 1\n",
    "        sum_of_rolls += roll\n",
    "    return no_of_rolls\n",
    "\n",
    "play_game(100)\n"
   ]
  },
  {
   "cell_type": "markdown",
   "metadata": {},
   "source": [
    "# Question 2 (Basic) - 1 point\n",
    "\n",
    "Your next task is to collect information about the probability distribution of number of rolls using the *play_game* function you implemented in the previous subquestion. Simulate playing the game 1000 times with a board length of 100 and record the number of rolls for each simulation. Show the histogram of the number of rolls for this simulation. You don't need to plot the histogram but can simply show the counts for each number of rolls as text. You can also create a plot using either the *matplotlib* or *bokeh* plotting frameworks. Make sure you include appropriate pip install and import statements in your notebook and check that it works in the Jupyterhub of the course. \n",
    "\n"
   ]
  },
  {
   "cell_type": "code",
   "execution_count": 4,
   "metadata": {
    "scrolled": true
   },
   "outputs": [
    {
     "name": "stdout",
     "output_type": "stream",
     "text": [
      "no. of rolls: 26 count: 88\n",
      "no. of rolls: 32 count: 69\n",
      "no. of rolls: 34 count: 31\n",
      "no. of rolls: 31 count: 87\n",
      "no. of rolls: 25 count: 60\n",
      "no. of rolls: 29 count: 149\n",
      "no. of rolls: 27 count: 131\n",
      "no. of rolls: 30 count: 135\n",
      "no. of rolls: 28 count: 144\n",
      "no. of rolls: 33 count: 52\n",
      "no. of rolls: 35 count: 17\n",
      "no. of rolls: 23 count: 12\n",
      "no. of rolls: 24 count: 14\n",
      "no. of rolls: 22 count: 4\n",
      "no. of rolls: 36 count: 4\n",
      "no. of rolls: 38 count: 1\n",
      "no. of rolls: 37 count: 2\n"
     ]
    }
   ],
   "source": [
    "# YOUR CODE GOES HERE \n",
    "dict = {}\n",
    "for n in range(1,1001):\n",
    "    roll = play_game(100)\n",
    "    if roll in dict:\n",
    "        dict[roll] += 1\n",
    "    else:\n",
    "        dict[roll] = 1\n",
    "\n",
    "for i in dict:\n",
    "    print(\"no. of rolls:\", i, \"count:\", dict[i])"
   ]
  },
  {
   "cell_type": "markdown",
   "metadata": {},
   "source": [
    "# Question 3 (Expected) 1 point \n",
    "\n",
    "Extent your *play_game* method to take as input a specification of snake and ladder positions and then perform the appropriate movement simulation. Just as before playing the game returns the number of rolls required to finish the game using the same simple end rule as the previous subquestions. \n",
    "\n",
    "<img src=\"snakes_ladders.png\" width=\"50%\"/>\n",
    "\n",
    "The snake and ladders positions will be encoded as a list of tuples. If the first number of the tuple is smaller than the second one it is ladder otherwise it is a snake. For example two of the snakes and one of the ladders\n",
    "in the board above would be represented as: "
   ]
  },
  {
   "cell_type": "code",
   "execution_count": 5,
   "metadata": {},
   "outputs": [
    {
     "name": "stdout",
     "output_type": "stream",
     "text": [
      "[(34, 6), (32, 10), (1, 38)]\n"
     ]
    }
   ],
   "source": [
    "snakeA = (34,6)\n",
    "snakeB = (32,10)\n",
    "ladderC = (1,38)\n",
    "snake_ladder_list = [snakeA,snakeB,ladderC]\n",
    "print(snake_ladder_list)"
   ]
  },
  {
   "cell_type": "markdown",
   "metadata": {},
   "source": [
    "Your play game function should take as input the snake and ladder specification. For testing and experiments use the board provided in the image above. "
   ]
  },
  {
   "cell_type": "code",
   "execution_count": 8,
   "metadata": {
    "scrolled": true
   },
   "outputs": [
    {
     "data": {
      "text/plain": [
       "29"
      ]
     },
     "execution_count": 8,
     "metadata": {},
     "output_type": "execute_result"
    }
   ],
   "source": [
    "# YOUR CODE GOES HERE \n",
    "import random\n",
    "def play_game(length, snakes_ladders):\n",
    "    curr = 0\n",
    "    sum_of_rolls = 0\n",
    "    no_of_rolls = 0\n",
    "    while (curr < length):\n",
    "        roll = random.randint(1,6)\n",
    "        curr += roll\n",
    "        no_of_rolls += 1\n",
    "        sum_of_rolls += roll\n",
    "        for item in snakes_ladders:\n",
    "            if curr == item[0]:\n",
    "                curr = item[1]\n",
    "    return no_of_rolls\n",
    "\n",
    "\n",
    "play_game(100, snake_ladder_list)"
   ]
  },
  {
   "cell_type": "markdown",
   "metadata": {},
   "source": [
    "# QUESTION 4 (EXPECTED) - 1 point"
   ]
  },
  {
   "cell_type": "markdown",
   "metadata": {},
   "source": [
    "Use the full game simulation that incoprorates the snakes and ladders, simulate 1000 games and record \n",
    "probability distribution of the number of rolls as a histogram similarly to the previous subquestion. \n",
    "Modify your code to support the following additional ending variations: \n",
    "\n",
    "* Exact landing: the piece needs to end exactly at the last square. If the roll exceeds the square then it is discarded but counted for the number of rolls \n",
    "* Bounce back variation:  If the roll is too high, the player's piece will bounce off the last space and move back. For example, if a player had four spaces to get to 100 and rolled a 6, the piece will move four spaces to 100, then “bounce back\" two spaces to 98.\n",
    "\n",
    "\n",
    "Show the histogram of the number of rolls for each ending variation. "
   ]
  },
  {
   "cell_type": "code",
   "execution_count": 16,
   "metadata": {},
   "outputs": [
    {
     "data": {
      "image/png": "[encoded data removed]",
      "text/plain": [
       "<Figure size 432x288 with 1 Axes>"
      ]
     },
     "metadata": {
      "needs_background": "light"
     },
     "output_type": "display_data"
    },
    {
     "data": {
      "image/png": "[encoded data removed]",
      "text/plain": [
       "<Figure size 432x288 with 1 Axes>"
      ]
     },
     "metadata": {
      "needs_background": "light"
     },
     "output_type": "display_data"
    }
   ],
   "source": [
    "# YOUR CODE GOES HERE\n",
    "import random\n",
    "import matplotlib.pyplot as plt\n",
    "import numpy as np\n",
    "%matplotlib inline\n",
    "\n",
    "def play_game_exact(length, snakes_ladders):\n",
    "    curr = 0\n",
    "    sum_of_rolls = 0\n",
    "    no_of_rolls = 0\n",
    "    while (curr != length):\n",
    "        roll = random.randint(1,6)\n",
    "        curr += roll\n",
    "        no_of_rolls += 1\n",
    "        sum_of_rolls += roll\n",
    "        for item in snakes_ladders:\n",
    "            if curr == item[0]:\n",
    "                curr = item[1]\n",
    "        if (curr > length):\n",
    "            curr -= roll\n",
    "    return no_of_rolls\n",
    "\n",
    "list = []\n",
    "for i in range(0,1000):\n",
    "    list.append(play_game_exact(100, snake_ladder_list))\n",
    "\n",
    "\n",
    "np.random.seed(42)\n",
    "x = np.random.normal(size=1000)\n",
    "\n",
    "plt.hist(list, density=True, bins=30)  # density=False would make counts\n",
    "plt.ylabel('Probability')\n",
    "plt.xlabel('Data');\n",
    "plt.show()\n",
    "\n",
    "def play_game_bounce(length, snakes_ladders):\n",
    "    curr = 0\n",
    "    sum_of_rolls = 0\n",
    "    no_of_rolls2 = 0\n",
    "    while (curr < length):\n",
    "        roll = random.randint(1,6)\n",
    "        if ((curr + roll) > length):\n",
    "            curr = (length-roll) + (length - curr)\n",
    "        else:\n",
    "            curr += roll\n",
    "        no_of_rolls2 += 1\n",
    "        sum_of_rolls += roll\n",
    "        for item in snakes_ladders:\n",
    "            if curr == item[0]:\n",
    "                curr = item[1]\n",
    "    return no_of_rolls2\n",
    "\n",
    "list2 = []\n",
    "for i in range(0,1000):\n",
    "    list2.append(play_game_bounce(100, snake_ladder_list))\n",
    "\n",
    "np.random.seed(42)\n",
    "x = np.random.normal(size=1000)\n",
    "\n",
    "plt.hist(list2, density=True, bins=30)  # density=False would make counts\n",
    "plt.ylabel('Probability')\n",
    "plt.xlabel('Data');\n",
    "plt.show()"
   ]
  },
  {
   "cell_type": "markdown",
   "metadata": {},
   "source": [
    "# QUESTION 5 (ADVANCED) - 1 point \n",
    "\n",
    "In this question the goal is to perform exact probabilistic inference for the number of rolls. Rather than simulating the game and recording the number of moves you will need to compute systematically the probabilities of every possible sequence of rolls. You should use the simplified version of board movement with no snakes and ladders and the simple landing rule. As an example let's consider a very short board of 4 squares. The only sequence of 1 roll that finishes the game is rolling a 4 which has $P(4) = 1/6$. For two rolls we have more possibilities such as 1,3 or 3,1 or 2,2 or 2,3 or 3,2 etc. For example the probability of (1,3) is $P(1,3) = 1/6 * 1/6$. Your code should systematically calculate the right products and sums to come up with probabilities for \n",
    "each possible number of rolls. To make this a bit simpler consider a board of length $25$. I advise that you first start by looking at very short boards and checking some of the calculations by hand. \n",
    "\n",
    "Compare the results you get from exact inference with the results you get from approximate inference for the same board length. "
   ]
  },
  {
   "cell_type": "code",
   "execution_count": 10,
   "metadata": {},
   "outputs": [],
   "source": [
    "# YOUR CODE GOES HERE \n",
    "def prob_inference(length):\n",
    "    probability = {}\n",
    "    for i in range(1,6):\n",
    "        curr = 0\n",
    "        probability[i] = 0\n",
    "        prob = 0\n",
    "        while curr < length:\n",
    "            curr += i\n",
    "            probability[i] = 1/6"
   ]
  },
  {
   "cell_type": "markdown",
   "metadata": {},
   "source": [
    "# Extra ideas (no credit) \n",
    "\n",
    "* Implement a GUI for showing the snakes/ladders board and support multiple players \n"
   ]
  },
  {
   "cell_type": "markdown",
   "metadata": {},
   "source": [
    "# Text Categorization\n",
    "\n",
    "\n",
    "Text categorization is the task of assigning a given document to one of a fixed set of categories, on the basis of text it contains. Naive Bayes models are often used for this task. In these models, the query variable is\n",
    "the document category, and the effect variables are the presence/absence\n",
    "of each word in the language; the assumption is that words occur independently in documents within a given category (condititional independence), with frequencies determined by document category. Download the following file: http://www.cs.cornell.edu/People/pabo/movie-review-data/review_polarity.tar.gz containing a dataset that has been used for text mining consisting of movie reviews classified into negative and positive. You\n",
    "will see that there are two folders for the positivie and negative category and they each contain multiple text files with the reviews. You can find more information about the dataset at: \n",
    "http://www.cs.cornell.edu/People/pabo/movie-review-data/\n",
    "\n",
    "\n",
    "Our goal will be to build a simple Naive Bayes classifier for this dataset. More complicated approaches using term frequency and inverse document frequency weighting and many more words are possible but the basic concepts\n",
    "are the same. The goal is to understand the whole process so DO NOT use existing machine learning packages but rather build the classifier from scratch.\n",
    "\n",
    "Our feature vector representation for each text file will be simply a binary vector that shows which of the following words are present in the text file: Awful Bad Boring Dull Effective Enjoyable Great Hilarious. For example the text file cv996 11592.txt would be represented as (0, 0, 0, 0, 1, 0, 1, 0) because it contains Effective and Great but none of the other words."
   ]
  },
  {
   "cell_type": "markdown",
   "metadata": {},
   "source": [
    "# Question 6 (Basic) -1 point\n",
    "\n",
    "Write code that parses the text files and calculates the probabilities for each dictionary word given the review polarity\n"
   ]
  },
  {
   "cell_type": "code",
   "execution_count": 17,
   "metadata": {},
   "outputs": [
    {
     "name": "stdout",
     "output_type": "stream",
     "text": [
      "pos\n",
      "['awful:1.9% 19/1000', 'bad:25.5% 255/1000', 'boring:4.8% 48/1000', 'dull:2.3% 23/1000', 'effective:12.0% 120/1000', 'enjoyable:9.5% 95/1000', 'great:40.8% 408/1000', 'hilarious:12.5% 125/1000']\n",
      "neg\n",
      "['awful:10.1% 101/1000', 'bad:50.5% 505/1000', 'boring:16.9% 169/1000', 'dull:9.1% 91/1000', 'effective:4.6% 46/1000', 'enjoyable:5.3% 53/1000', 'great:28.6% 286/1000', 'hilarious:5.0% 50/1000']\n"
     ]
    }
   ],
   "source": [
    "# YOUR CODE GOES HERE \n",
    "#wget http://www.cs.cornell.edu/People/pabo/movie-review-data/review_polarity.tar.gz\n",
    "#tar xyzf review_polarity.tar.gz\n",
    "\n",
    "import os\n",
    "\n",
    "path = \"./txt_sentoken\"\n",
    "data = []\n",
    "polarity = []\n",
    "pols = ['neg', 'pos']\n",
    "negvectors = []\n",
    "posvectors = []\n",
    "sumnegvectors = [0, 0, 0, 0, 0, 0, 0, 0]\n",
    "sumposvectors = [0, 0, 0, 0, 0, 0, 0, 0]\n",
    "for index, pol in enumerate(pols):\n",
    "    files = os.listdir(os.path.join(path, pol))\n",
    "    for file in files:\n",
    "        masterlist = []\n",
    "        with open(os.path.join(path, pol, file)) as f:\n",
    "            for line in f:\n",
    "                line = line.strip()\n",
    "                list = line.split(\" \")\n",
    "                masterlist += list\n",
    "            data.append(masterlist)\n",
    "            polarity.append(index)\n",
    "words = ['awful', 'bad', 'boring', 'dull', 'effective', 'enjoyable', 'great', 'hilarious']\n",
    "for i, text in enumerate(data):\n",
    "    #vector = ['0', '0', '0', '0', '0', '0', '0', '0']\n",
    "    vector = [0, 0, 0, 0, 0, 0 ,0, 0]\n",
    "    for wordi, word in enumerate(words):\n",
    "        for item in text:\n",
    "            if word == item:\n",
    "                vector[wordi] = 1\n",
    "    if polarity[i] == 0: #negative review\n",
    "        negvectors.append(vector)\n",
    "        for j, item in enumerate(vector):\n",
    "            if vector[j] == 1:\n",
    "                sumnegvectors[j] += 1\n",
    "    else:\n",
    "        posvectors.append(vector) #pos review\n",
    "        for j, item in enumerate(vector):\n",
    "            if vector[j] == 1:\n",
    "                sumposvectors[j] += 1\n",
    "\n",
    "for i in range(0,8):\n",
    "    sumnegvectors[i] = words[i] + \":\" + str(sumnegvectors[i]/10) + \"%\" + \" \" + str(sumnegvectors[i]) + \"/\" + str(1000)\n",
    "    sumposvectors[i] = words[i] + \":\" + str(sumposvectors[i]/10) + \"%\" + \" \" + str(sumposvectors[i]) + \"/\" + str(1000)\n",
    "\n",
    "print(\"pos\")\n",
    "print(sumposvectors)\n",
    "print(\"neg\")\n",
    "print(sumnegvectors)\n",
    "\n",
    "\n",
    "    \n",
    "\n",
    "\n",
    "\n"
   ]
  },
  {
   "cell_type": "markdown",
   "metadata": {},
   "source": [
    "# Question 7 (Basic)  - 1 point \n",
    "\n",
    "Explain how the probability estimates for each dictionary word given the review polarity can be combined to form a Naive Bayes classifier. You can look up Bernoulli Bayes model for this simple model where only presence/absence of a word is modeled.\n",
    "\n",
    "Your answer should be a description of the process with equations and a specific example as markdown text NOT python code. You will write the code in the next question. "
   ]
  },
  {
   "cell_type": "markdown",
   "metadata": {},
   "source": [
    "There are 1000 neg reviews and 1000 pos review so P(neg) = 1/2 and P(pos) = 1/2.\n",
    "\n",
    "Using the probability estimates for each word from the previous question, a given vector can be classified into a category by calculating the posterior probability for each category for the given vector and whichever has the highest probability is the correct category.\n",
    "\n",
    "The posterior probability for each category is calculated by the formula\n",
    "    P(C) * Π{t=1to8} (vector{t} * P(w{t}|S) + (1-vector{t} )(1-P(w{t} |S))\n",
    "Say we want to classify vector = [1, 0, 0, 1, 1, 1, 0, 1], then using our estimates from the previous question we have:\n",
    "    1/2*(0.122 * 1-0.545 * 1-0.175 * 0.101 * 0.086 * 0.054 * 1-0.32 * 0.059) for the neg category and \n",
    "    1/2*(0.034 * 1-0.28 * 1-0.054 * 0.025 * 0.154 * 0.096 * 1-0.485 * 0.132) for the pos category\n",
    "    "
   ]
  },
  {
   "cell_type": "markdown",
   "metadata": {},
   "source": [
    "# QUESTION 8 (EXPECTED) 1 point\n",
    "\n",
    "Write Python code for classifying a particular test instance (in our case movie review) following a Bernolli Bayes approach. Your code should calculate the likelihood the review is positive given the correspondng conditional probabilities for each dictionary word as well as the likelihood the review is negative given the corresponding conditional probabilities for each dictionary word. Check that your code works by providing a few example cases of prediction. Your code should be written from \"scratch\" and only use numpy/scipy but **NOT** machine learning libraries like scikit-learn or tensorflow.\n",
    "\n"
   ]
  },
  {
   "cell_type": "code",
   "execution_count": 29,
   "metadata": {},
   "outputs": [
    {
     "name": "stdout",
     "output_type": "stream",
     "text": [
      "neg 21.015326786260605%\n",
      "pos 9.598463351434743%\n",
      "neg 0.00013166223360288573%\n",
      "pos 0.0007654492700568%\n",
      "neg 0.2249407959261538%\n",
      "pos 0.06913659076663682%\n"
     ]
    }
   ],
   "source": [
    "# YOUR CODE GOES HERE \n",
    "pos = [0.019, 0.255, 0.048, 0.023, 0.12, 0.095, 0.408, 0.125]\n",
    "neg = [0.101, 0.505, 0.169, 0.091, 0.046, 0.053, 0.286, 0.05]\n",
    "test = [0, 1, 0, 0, 0, 0, 0, 0]\n",
    "test2 = [1, 0, 0, 0, 1, 1, 1, 1]\n",
    "test3 = [0, 1, 1, 0, 0, 0, 0, 1]\n",
    "\n",
    "def likelihood(review, word_probs): \n",
    "    probability_product = 1.0 \n",
    "    for (i,w) in enumerate(test_review): \n",
    "        if (w==1): \n",
    "            probability = word_probs[i]\n",
    "        else: \n",
    "            probability = 1.0 - word_probs[i]\n",
    "        probability_product *= probability \n",
    "    return probability_product\n",
    "\n",
    "print('neg' + \" \" + str(likelihood(test, neg)*100) + \"%\")\n",
    "print('pos' + \" \" + str(likelihood(test, pos)*100) + \"%\")\n",
    "print('neg' + \" \" + str(likelihood(test2, neg)*100) + \"%\")\n",
    "print('pos' + \" \" + str(likelihood(test2, pos)*100) + \"%\")\n",
    "print('neg' + \" \" + str(likelihood(test3, neg)*100) + \"%\")\n",
    "print('pos' + \" \" + str(likelihood(test3, pos)*100) + \"%\")\n"
   ]
  },
  {
   "cell_type": "markdown",
   "metadata": {},
   "source": [
    "# QUESTION 9 (EXPECTED) 1 point \n",
    "\n",
    "\n",
    "Calculate the classification accuracy and confusion matrix that you would obtain using the whole data set for both training and testing. Do not use machine learning libraries like scikit-learn or tensorflow for this only the basic numpy/scipy stuff.\n",
    "\n",
    "\n"
   ]
  },
  {
   "cell_type": "code",
   "execution_count": 30,
   "metadata": {},
   "outputs": [
    {
     "name": "stdout",
     "output_type": "stream",
     "text": [
      "accuracy: 67.4%\n",
      "+----------------+-------------------+-------------------+\n",
      "|                | Actual Neg Review | Actual Pos Review |\n",
      "+----------------+-------------------+-------------------+\n",
      "| Predicted Neg  |        592        |        244        |\n",
      "| Predicted Pos  |        408        |        756        |\n",
      "+----------------+-------------------+-------------------+\n"
     ]
    }
   ],
   "source": [
    "# YOUR CODE GOES HERE \n",
    "#Confusion matrix is the results of your classifier: TP (pos classified pos, \n",
    "#TN (neg classified neg), FP (neg classified pos), FN. Accuracy is TP+TN/total classified\n",
    "from prettytable import PrettyTable\n",
    "\n",
    "posclasspos = 0\n",
    "negclassneg = 0\n",
    "\n",
    "for i in range(0, len(posvectors)):\n",
    "    prob_neg = likelihood(posvectors[i], neg)\n",
    "    prob_pos = likelihood(posvectors[i], pos)\n",
    "    if prob_neg < prob_pos:\n",
    "        posclasspos += 1\n",
    "        \n",
    "for i in range(0, len(negvectors)):\n",
    "    prob_neg1 = likelihood(negvectors[i], neg)\n",
    "    prob_pos1 = likelihood(negvectors[i], pos)\n",
    "    if prob_neg1 > prob_pos1:\n",
    "        negclassneg += 1\n",
    "\n",
    "accuracy = (posclasspos + negclassneg)/2000\n",
    "print(\"accuracy:\", str(accuracy*100) + \"%\")\n",
    "\n",
    "x = PrettyTable()\n",
    "x.field_names= [\" \", \"Actual Neg Review\", \"Actual Pos Review\"]\n",
    "x.add_row([\"Predicted Neg\", negclassneg , 1000-posclasspos])\n",
    "x.add_row([\"Predicted Pos \", 1000-negclassneg, posclasspos])\n",
    "print(x)"
   ]
  },
  {
   "cell_type": "markdown",
   "metadata": {},
   "source": [
    "# QUESTION 10 (ADVANCED) 1 point \n",
    "\n",
    "One can consider the Naive Bayes classifier a generative model that can generate binary feature vectors using the associated probabilities from the training data. The idea is similar to how we do direct sampling in Bayesian Networks and depends on generating random number from a discrete distribution. Describe how you would generate random movie reviews consisting solely of the words from the dictionary using your model. Show 5 examples of randomly generated positive reviews and 5 examples of randomly generated negative reviews. Each example should consists of a subset of the words in the dictionary. Hint: use probabilities to generate both the presence and absence of a word. \n"
   ]
  },
  {
   "cell_type": "code",
   "execution_count": 35,
   "metadata": {},
   "outputs": [
    {
     "name": "stdout",
     "output_type": "stream",
     "text": [
      "Positive review: ['bad', 'bad', 'great', 'great', 'bad']\n",
      "Negative review: ['great', 'awful', 'boring', 'enjoyable', 'great']\n",
      "Positive review: ['great', 'great', 'effective', 'great', 'bad']\n",
      "Negative review: ['great']\n",
      "Positive review: ['great', 'great', 'enjoyable']\n",
      "Negative review: ['dull', 'boring', 'enjoyable']\n",
      "Positive review: ['bad']\n",
      "Negative review: ['awful', 'bad', 'bad', 'great', 'bad']\n",
      "Positive review: ['hilarious', 'effective', 'bad', 'great']\n",
      "Negative review: ['dull', 'boring', 'boring', 'enjoyable', 'bad']\n"
     ]
    }
   ],
   "source": [
    "pos_prob = [0.019, 0.255, 0.048, 0.023, 0.12, 0.095, 0.408, 0.125]\n",
    "neg_prob = [0.101, 0.505, 0.169, 0.091, 0.046, 0.053, 0.286, 0.05]\n",
    "words = ['awful', 'bad', 'boring', 'dull', 'effective', 'enjoyable', 'great', 'hilarious']\n",
    "pos_prob2 = []\n",
    "neg_prob2 = []\n",
    "for item in pos_prob:\n",
    "    item = item/sum(pos_prob)\n",
    "    pos_prob2.append(item)\n",
    "for item in neg_prob:\n",
    "    item = item/sum(neg_prob)\n",
    "    neg_prob2.append(item)\n",
    "\n",
    "for i in range(0,5):\n",
    "    print(\"Positive review:\", [np.random.choice(words, p=pos_prob2) for i in range((random.randint(1,5)))])\n",
    "    print(\"Negative review:\", [np.random.choice(words, p=neg_prob2) for i in range((random.randint(1,5)))])\n",
    "    "
   ]
  },
  {
   "cell_type": "markdown",
   "metadata": {},
   "source": [
    "# Extra ideas (no credit) \n",
    "\n",
    "* Check the associated README file and see what convention is used for the 10-fold cross-validation. Calculate the classification accuracy and confusion matrix using the recommended 10-fold cross-validation. Again do NOT use \n",
    "ML libraries such as scikit-learn or tensorflow and just use numpy/scipy. \n",
    "* Implement the all the question using a ML library such as scikit-learn or tensorflow and a Naive Bayes Bernoulli classifier. \n"
   ]
  },
  {
   "cell_type": "code",
   "execution_count": null,
   "metadata": {},
   "outputs": [],
   "source": []
  },
  {
   "cell_type": "code",
   "execution_count": null,
   "metadata": {},
   "outputs": [],
   "source": []
  }
 ],
 "metadata": {
  "kernelspec": {
   "display_name": "Python 3",
   "language": "python",
   "name": "python3"
  },
  "language_info": {
   "codemirror_mode": {
    "name": "ipython",
    "version": 3
   },
   "file_extension": ".py",
   "mimetype": "text/x-python",
   "name": "python",
   "nbconvert_exporter": "python",
   "pygments_lexer": "ipython3",
   "version": "3.9.2"
  }
 },
 "nbformat": 4,
 "nbformat_minor": 4
}
