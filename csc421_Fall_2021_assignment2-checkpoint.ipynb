{
 "cells": [
  {
   "cell_type": "markdown",
   "metadata": {},
   "source": [
    "# CSC421 Fall 2021 Assignment 2 \n",
    "### Author: George Tzanetakis \n",
    "\n",
    "This notebook is based on the supporting material for topics covered in **Chapter 7 - Logical Agents** and **Chapter 8 - First-Order Logic** from the book *Artificial Intelligence: A Modern Approach.* You can consult and modify the code provided in logic.py and logic.ipynb for completing the assignment questions. The first 5 questions do NOT rely on the provided aima code so you can complete it just using basic Python. The next 5 questions require the use of the aima-code repository. \n",
    "\n",
    "You are welcome and actually it can be educational to look at the code at the aima-code repository as well as other code resources you can find on the web. However, make sure you understand any code that you incoporate. \n",
    "\n",
    "The assignment structure is as follows - each item is worth 1 point: \n",
    "\n",
    "1. Propositional Logic (Basic) - simple infix evaluator for 0, 1 and logical operators \n",
    "2. Propositional Logic (Basic) - adding variables and bindings to evaluator \n",
    "3. Propositional Logic (Expected) - recursive infix evaluator for propositional logic \n",
    "4. Propositional Logic (Expected) - usage of evaluator to evaluate some example logic expressions\n",
    "5. Propositional Logic (Advanced) - model checking for the prefix evaluator \n",
    "6. Proposigtional Logic(Basic) - simple KB using aima code with model checking and theorem proving \n",
    "7. First-Order Logic (Basic) - kinship domain using FolKB for the Simpsons \n",
    "8. First-Order Logic (Expected) - kinship domain using Prolog for the Simpsons\n",
    "9. First-Order Logic (Expected) - LegoWorld \n",
    "10.First-Order Logic (Advanced) - NLP for LegoWorld or webscraping a KB for music  \n",
    "\n",
    "The grading will be done in 0.5 increments. 1 point for correct answer, 0.5 points for partial or incorrect \n",
    "but reasonable answer and 0.0 for no answer or completely wrong answer. \n",
    "\n",
    "```\n",
    "Birds can fly, unless they are penguins and ostriches, or if they happen \n",
    "to be dead, or have broken wings, or are confined to cages, or have their \n",
    "feet stuck in cement, or have undergone experiences so dreadful as to render \n",
    "them psychologically incapable of flight \n",
    "\n",
    "Marvin Minsky \n",
    "```"
   ]
  },
  {
   "cell_type": "code",
   "execution_count": 1,
   "metadata": {},
   "outputs": [
    {
     "name": "stdout",
     "output_type": "stream",
     "text": [
      "Collecting numpy\n",
      "  Downloading numpy-1.21.3-cp39-cp39-manylinux_2_12_x86_64.manylinux2010_x86_64.whl (15.7 MB)\n",
      "\u001b[K     |████████████████████████████████| 15.7 MB 1.6 MB/s eta 0:00:01    |█████████████████▍              | 8.6 MB 7.3 MB/s eta 0:00:01     |███████████████████████████▍    | 13.5 MB 7.3 MB/s eta 0:00:01\n",
      "\u001b[?25hCollecting networkx\n",
      "  Using cached networkx-2.6.3-py3-none-any.whl (1.9 MB)\n",
      "Collecting ipythonblocks\n",
      "  Using cached ipythonblocks-1.9.0-py2.py3-none-any.whl (13 kB)\n",
      "Collecting sortedcontainers\n",
      "  Using cached sortedcontainers-2.4.0-py2.py3-none-any.whl (29 kB)\n",
      "Requirement already satisfied: ipython>=4.0 in /opt/conda/lib/python3.9/site-packages (from ipythonblocks) (7.24.0)\n",
      "Requirement already satisfied: notebook>=4.0 in /opt/conda/lib/python3.9/site-packages (from ipythonblocks) (6.3.0)\n",
      "Requirement already satisfied: requests>=1.0 in /opt/conda/lib/python3.9/site-packages (from ipythonblocks) (2.25.1)\n",
      "Requirement already satisfied: backcall in /opt/conda/lib/python3.9/site-packages (from ipython>=4.0->ipythonblocks) (0.2.0)\n",
      "Requirement already satisfied: jedi>=0.16 in /opt/conda/lib/python3.9/site-packages (from ipython>=4.0->ipythonblocks) (0.18.0)\n",
      "Requirement already satisfied: pexpect>4.3 in /opt/conda/lib/python3.9/site-packages (from ipython>=4.0->ipythonblocks) (4.8.0)\n",
      "Requirement already satisfied: traitlets>=4.2 in /opt/conda/lib/python3.9/site-packages (from ipython>=4.0->ipythonblocks) (5.0.5)\n",
      "Requirement already satisfied: setuptools>=18.5 in /opt/conda/lib/python3.9/site-packages (from ipython>=4.0->ipythonblocks) (49.6.0.post20210108)\n",
      "Requirement already satisfied: decorator in /opt/conda/lib/python3.9/site-packages (from ipython>=4.0->ipythonblocks) (5.0.9)\n",
      "Requirement already satisfied: matplotlib-inline in /opt/conda/lib/python3.9/site-packages (from ipython>=4.0->ipythonblocks) (0.1.2)\n",
      "Requirement already satisfied: pickleshare in /opt/conda/lib/python3.9/site-packages (from ipython>=4.0->ipythonblocks) (0.7.5)\n",
      "Requirement already satisfied: prompt-toolkit!=3.0.0,!=3.0.1,<3.1.0,>=2.0.0 in /opt/conda/lib/python3.9/site-packages (from ipython>=4.0->ipythonblocks) (3.0.18)\n",
      "Requirement already satisfied: pygments in /opt/conda/lib/python3.9/site-packages (from ipython>=4.0->ipythonblocks) (2.9.0)\n",
      "Requirement already satisfied: parso<0.9.0,>=0.8.0 in /opt/conda/lib/python3.9/site-packages (from jedi>=0.16->ipython>=4.0->ipythonblocks) (0.8.2)\n",
      "Requirement already satisfied: nbformat in /opt/conda/lib/python3.9/site-packages (from notebook>=4.0->ipythonblocks) (5.1.3)\n",
      "Requirement already satisfied: nbconvert in /opt/conda/lib/python3.9/site-packages (from notebook>=4.0->ipythonblocks) (6.0.7)\n",
      "Requirement already satisfied: ipykernel in /opt/conda/lib/python3.9/site-packages (from notebook>=4.0->ipythonblocks) (5.5.5)\n",
      "Requirement already satisfied: argon2-cffi in /opt/conda/lib/python3.9/site-packages (from notebook>=4.0->ipythonblocks) (20.1.0)\n",
      "Requirement already satisfied: jupyter-core>=4.6.1 in /opt/conda/lib/python3.9/site-packages (from notebook>=4.0->ipythonblocks) (4.7.1)\n",
      "Requirement already satisfied: prometheus-client in /opt/conda/lib/python3.9/site-packages (from notebook>=4.0->ipythonblocks) (0.10.1)\n",
      "Requirement already satisfied: jinja2 in /opt/conda/lib/python3.9/site-packages (from notebook>=4.0->ipythonblocks) (3.0.1)\n",
      "Requirement already satisfied: jupyter-client>=5.3.4 in /opt/conda/lib/python3.9/site-packages (from notebook>=4.0->ipythonblocks) (6.1.12)\n",
      "Requirement already satisfied: ipython-genutils in /opt/conda/lib/python3.9/site-packages (from notebook>=4.0->ipythonblocks) (0.2.0)\n",
      "Requirement already satisfied: pyzmq>=17 in /opt/conda/lib/python3.9/site-packages (from notebook>=4.0->ipythonblocks) (22.1.0)\n",
      "Requirement already satisfied: terminado>=0.8.3 in /opt/conda/lib/python3.9/site-packages (from notebook>=4.0->ipythonblocks) (0.10.0)\n",
      "Requirement already satisfied: Send2Trash>=1.5.0 in /opt/conda/lib/python3.9/site-packages (from notebook>=4.0->ipythonblocks) (1.5.0)\n",
      "Requirement already satisfied: tornado>=6.1 in /opt/conda/lib/python3.9/site-packages (from notebook>=4.0->ipythonblocks) (6.1)\n",
      "Requirement already satisfied: python-dateutil>=2.1 in /opt/conda/lib/python3.9/site-packages (from jupyter-client>=5.3.4->notebook>=4.0->ipythonblocks) (2.8.1)\n",
      "Requirement already satisfied: ptyprocess>=0.5 in /opt/conda/lib/python3.9/site-packages (from pexpect>4.3->ipython>=4.0->ipythonblocks) (0.7.0)\n",
      "Requirement already satisfied: wcwidth in /opt/conda/lib/python3.9/site-packages (from prompt-toolkit!=3.0.0,!=3.0.1,<3.1.0,>=2.0.0->ipython>=4.0->ipythonblocks) (0.2.5)\n",
      "Requirement already satisfied: six>=1.5 in /opt/conda/lib/python3.9/site-packages (from python-dateutil>=2.1->jupyter-client>=5.3.4->notebook>=4.0->ipythonblocks) (1.16.0)\n",
      "Requirement already satisfied: chardet<5,>=3.0.2 in /opt/conda/lib/python3.9/site-packages (from requests>=1.0->ipythonblocks) (4.0.0)\n",
      "Requirement already satisfied: idna<3,>=2.5 in /opt/conda/lib/python3.9/site-packages (from requests>=1.0->ipythonblocks) (2.10)\n",
      "Requirement already satisfied: urllib3<1.27,>=1.21.1 in /opt/conda/lib/python3.9/site-packages (from requests>=1.0->ipythonblocks) (1.26.5)\n",
      "Requirement already satisfied: certifi>=2017.4.17 in /opt/conda/lib/python3.9/site-packages (from requests>=1.0->ipythonblocks) (2021.5.30)\n",
      "Requirement already satisfied: cffi>=1.0.0 in /opt/conda/lib/python3.9/site-packages (from argon2-cffi->notebook>=4.0->ipythonblocks) (1.14.5)\n",
      "Requirement already satisfied: pycparser in /opt/conda/lib/python3.9/site-packages (from cffi>=1.0.0->argon2-cffi->notebook>=4.0->ipythonblocks) (2.20)\n",
      "Requirement already satisfied: MarkupSafe>=2.0 in /opt/conda/lib/python3.9/site-packages (from jinja2->notebook>=4.0->ipythonblocks) (2.0.1)\n",
      "Requirement already satisfied: defusedxml in /opt/conda/lib/python3.9/site-packages (from nbconvert->notebook>=4.0->ipythonblocks) (0.7.1)\n",
      "Requirement already satisfied: entrypoints>=0.2.2 in /opt/conda/lib/python3.9/site-packages (from nbconvert->notebook>=4.0->ipythonblocks) (0.3)\n",
      "Requirement already satisfied: pandocfilters>=1.4.1 in /opt/conda/lib/python3.9/site-packages (from nbconvert->notebook>=4.0->ipythonblocks) (1.4.2)\n",
      "Requirement already satisfied: testpath in /opt/conda/lib/python3.9/site-packages (from nbconvert->notebook>=4.0->ipythonblocks) (0.5.0)\n",
      "Requirement already satisfied: bleach in /opt/conda/lib/python3.9/site-packages (from nbconvert->notebook>=4.0->ipythonblocks) (3.3.0)\n",
      "Requirement already satisfied: nbclient<0.6.0,>=0.5.0 in /opt/conda/lib/python3.9/site-packages (from nbconvert->notebook>=4.0->ipythonblocks) (0.5.3)\n",
      "Requirement already satisfied: mistune<2,>=0.8.1 in /opt/conda/lib/python3.9/site-packages (from nbconvert->notebook>=4.0->ipythonblocks) (0.8.4)\n",
      "Requirement already satisfied: jupyterlab-pygments in /opt/conda/lib/python3.9/site-packages (from nbconvert->notebook>=4.0->ipythonblocks) (0.1.2)\n",
      "Requirement already satisfied: async-generator in /opt/conda/lib/python3.9/site-packages (from nbclient<0.6.0,>=0.5.0->nbconvert->notebook>=4.0->ipythonblocks) (1.10)\n",
      "Requirement already satisfied: nest-asyncio in /opt/conda/lib/python3.9/site-packages (from nbclient<0.6.0,>=0.5.0->nbconvert->notebook>=4.0->ipythonblocks) (1.5.1)\n",
      "Requirement already satisfied: jsonschema!=2.5.0,>=2.4 in /opt/conda/lib/python3.9/site-packages (from nbformat->notebook>=4.0->ipythonblocks) (3.2.0)\n",
      "Requirement already satisfied: pyrsistent>=0.14.0 in /opt/conda/lib/python3.9/site-packages (from jsonschema!=2.5.0,>=2.4->nbformat->notebook>=4.0->ipythonblocks) (0.17.3)\n",
      "Requirement already satisfied: attrs>=17.4.0 in /opt/conda/lib/python3.9/site-packages (from jsonschema!=2.5.0,>=2.4->nbformat->notebook>=4.0->ipythonblocks) (21.2.0)\n",
      "Requirement already satisfied: packaging in /opt/conda/lib/python3.9/site-packages (from bleach->nbconvert->notebook>=4.0->ipythonblocks) (20.9)\n",
      "Requirement already satisfied: webencodings in /opt/conda/lib/python3.9/site-packages (from bleach->nbconvert->notebook>=4.0->ipythonblocks) (0.5.1)\n",
      "Requirement already satisfied: pyparsing>=2.0.2 in /opt/conda/lib/python3.9/site-packages (from packaging->bleach->nbconvert->notebook>=4.0->ipythonblocks) (2.4.7)\n",
      "Installing collected packages: sortedcontainers, numpy, networkx, ipythonblocks\n",
      "Successfully installed ipythonblocks-1.9.0 networkx-2.6.3 numpy-1.21.3 sortedcontainers-2.4.0\n"
     ]
    }
   ],
   "source": [
    "!pip install numpy networkx ipythonblocks sortedcontainers"
   ]
  },
  {
   "cell_type": "code",
   "execution_count": 2,
   "metadata": {},
   "outputs": [],
   "source": [
    "import utils, agents, logic"
   ]
  },
  {
   "cell_type": "markdown",
   "metadata": {},
   "source": [
    "# Introduction - Parsing and evaluating prefix logic expressions  \n",
    "\n",
    "In this assignment your task is to incrementally create a parser and evaluator for prefix logic expressions as well as implement simple model checking. \n"
   ]
  },
  {
   "cell_type": "markdown",
   "metadata": {},
   "source": [
    "# Question 1 (Basic)  - 1 point\n",
    "\n",
    "Your first task will be to write a simple evaluator of prefix logic expressions with constants. In prefix notation the operator precedes the operands and no operands are required. For example 5+3 in prefix notation is written + 5 3 or 5 * 2 + 3 would be written + * 5 2 3 or + * 5 2 * 3 4 is equivalent to (5 * 2) + (3 * 4). "
   ]
  },
  {
   "cell_type": "markdown",
   "metadata": {},
   "source": [
    "As a first step we will consider very simple expressions with one operator and two constant operands. We will use 0 for false and 1 for true. The following logical connectives should be implemented (see Figure 7.8 in your book) (notice that for now there is no negation symbol ~): \n",
    "\n",
    "1. &    (and), \n",
    "3. |    (or), \n",
    "4. =>   (implication) \n",
    "5. <=>  (biconditional) \n",
    "\n",
    "Example expressions: \n",
    "```\n",
    "& 1 0  \n",
    "=> 0 1 \n",
    "<=> 1 1 \n",
    "```\n",
    "\n",
    "Your function should take as input a string with the prefix expression and return the result of evaluating the expression (basically a 1 for true and 0 for false). You can split a string to a list using .split[' ']. For this part of the assignment you only evaluate expressions with two constant operands i.e no nested/recursive expressions. "
   ]
  },
  {
   "cell_type": "code",
   "execution_count": 7,
   "metadata": {},
   "outputs": [
    {
     "name": "stdout",
     "output_type": "stream",
     "text": [
      "['&', '1', '0']\n"
     ]
    }
   ],
   "source": [
    "a = '& 1 0'\n",
    "print(a.split(' '))"
   ]
  },
  {
   "cell_type": "code",
   "execution_count": 8,
   "metadata": {},
   "outputs": [],
   "source": [
    "# YOUR CODE GOES HERE \n",
    "def log_evaluator(s):\n",
    "    list = s.split(' ')\n",
    "    if (list[0] == '&'):\n",
    "        if (list[1] == 1 and list[2] == 1):\n",
    "            return 1\n",
    "        else:\n",
    "            return 0\n",
    "    elif (list[0] == '|'):\n",
    "        if (list[1] == 0 and list[2] == 0):\n",
    "            return 0\n",
    "        else:\n",
    "            return 1\n",
    "    elif (list[0] == '=>'):\n",
    "        if (list[1] == 1 and list[2] == 0):\n",
    "            return 0\n",
    "        else:\n",
    "            return 1\n",
    "    elif (list[0] == '<=>'):\n",
    "        if (list[1] == 1 and list[2] == 1) or (list[1] == 0 and list[2] == 0):\n",
    "            return 0\n",
    "        else:\n",
    "            return 1\n",
    "        \n",
    "        "
   ]
  },
  {
   "cell_type": "markdown",
   "metadata": {},
   "source": [
    "# Question 2 (Basic) - 1 point\n",
    "\n",
    "Your next task is to implement variables and bindings for your propositional logic evaluator. In this version in addition to constants (0 and 1) you also can have variables which are strings with associated values provided in a dictionary. You still only consider two operands and one operator (no nesting). For example in the code below \n",
    "the three expressions are equivalent. Your function should take as arguments the expression to be evaluated as a string and the dictionary with the variable bindings. In addition you need to add the ~ (not) operator. To do so for each variable in the dictionary add a not version. For example if 'a' in the dictionary has a value of 1 the '~a' in the dictionary should have a value of 0. Notice that the not symbol is part of the string and NOT separated by a space. \n",
    "\n"
   ]
  },
  {
   "cell_type": "code",
   "execution_count": 9,
   "metadata": {},
   "outputs": [
    {
     "name": "stdout",
     "output_type": "stream",
     "text": [
      "{'foo': 0, 'b': 1}\n"
     ]
    }
   ],
   "source": [
    "d = {'foo': 0, 'b': 1}\n",
    "print(d)\n",
    "expr1 = '& 0 1'\n",
    "expr2 = '& foo 1'\n",
    "expr3 = '& foo ~b'"
   ]
  },
  {
   "cell_type": "code",
   "execution_count": 4,
   "metadata": {
    "scrolled": true
   },
   "outputs": [
    {
     "name": "stdout",
     "output_type": "stream",
     "text": [
      "0\n",
      "{'foo': 0, 'b': 1, '~foo': 1, '~b': 0}\n"
     ]
    }
   ],
   "source": [
    "# YOUR CODE GOES HERE \n",
    "def log_evaluatordict(s, dict):\n",
    "    for item in dict.copy():\n",
    "        opp = '~' + item\n",
    "        if (dict[item] == 0):\n",
    "            dict[opp] = 1\n",
    "        else:\n",
    "            dict[opp] = 0\n",
    "    list = s.split(' ')\n",
    "    string = list[:1]\n",
    "    for i in range(1,len(list)):\n",
    "        if list[i] in dict:\n",
    "            string.append(dict[list[i]])\n",
    "        else:\n",
    "            string.append(list[i]) #if 0 or 1 just append\n",
    "    if (string[0] == '&'):\n",
    "        if (string[1] == 1 and string[2] == 1):\n",
    "            return 1\n",
    "        else:\n",
    "            return 0\n",
    "    elif (string[0] == '|'):\n",
    "        if (string[1] == 0 and string[2] == 0):\n",
    "            return 0\n",
    "        else:\n",
    "            return 1\n",
    "    elif (string[0] == '=>'):\n",
    "        if (string[1] == 1 and string[2] == 0):\n",
    "            return 0\n",
    "        else:\n",
    "            return 1\n",
    "    elif (string[0] == '<=>'):\n",
    "        if (string[1] == 1 and string[2] == 1) or (string[1] == 0 and string[2] == 0):\n",
    "            return 0\n",
    "        else:\n",
    "            return 1\n",
    "        \n",
    "d = {'foo': 0, 'b': 1}\n",
    "expr1 = '& 0 1'\n",
    "expr2 = '& foo 1'\n",
    "expr3 = '& foo ~b'\n",
    "expr4 = '<=> ~foo b'\n",
    "print(log_evaluatordict(expr4, d))\n",
    "print(d)"
   ]
  },
  {
   "cell_type": "markdown",
   "metadata": {},
   "source": [
    "# Question 3 (Expected) 1 point \n",
    "\n",
    "\n",
    "The following code is a recursive evaluator for prefix arithmetic expressions. It assumes that there are always two operands either an integer or a prefix expression starting with an operator (addition or multiplication). It is a good idea to go through this function carefully by hand to understand how the recursion works. \n",
    "\n",
    "Informed by your understanding of the arithmetic recursive_eval function your task is to write function to implement a recursive prefix logic evaluator. Your evaluator should also support variables bindings using a dictionary as in the previous question. \n",
    "\n",
    "Example expressions: \n",
    "```\n",
    "& 1 & 1 a   \n",
    "=> 0 & b ~alice  \n",
    "<=> foo 1 \n",
    "```"
   ]
  },
  {
   "cell_type": "code",
   "execution_count": 11,
   "metadata": {},
   "outputs": [
    {
     "ename": "NameError",
     "evalue": "name 'prefix_eval' is not defined",
     "output_type": "error",
     "traceback": [
      "\u001b[0;31m---------------------------------------------------------------------------\u001b[0m",
      "\u001b[0;31mNameError\u001b[0m                                 Traceback (most recent call last)",
      "\u001b[0;32m<ipython-input-11-22befac1361a>\u001b[0m in \u001b[0;36m<module>\u001b[0;34m\u001b[0m\n\u001b[1;32m     13\u001b[0m \u001b[0;34m\u001b[0m\u001b[0m\n\u001b[1;32m     14\u001b[0m \u001b[0;34m\u001b[0m\u001b[0m\n\u001b[0;32m---> 15\u001b[0;31m \u001b[0mprint\u001b[0m\u001b[0;34m(\u001b[0m\u001b[0mprefix_eval\u001b[0m\u001b[0;34m(\u001b[0m\u001b[0;34m'1'\u001b[0m\u001b[0;34m)\u001b[0m\u001b[0;34m)\u001b[0m\u001b[0;34m\u001b[0m\u001b[0;34m\u001b[0m\u001b[0m\n\u001b[0m\u001b[1;32m     16\u001b[0m \u001b[0mprint\u001b[0m\u001b[0;34m(\u001b[0m\u001b[0mprefix_eval\u001b[0m\u001b[0;34m(\u001b[0m\u001b[0;34m'+ 1 2'\u001b[0m\u001b[0;34m)\u001b[0m\u001b[0;34m)\u001b[0m\u001b[0;34m\u001b[0m\u001b[0;34m\u001b[0m\u001b[0m\n\u001b[1;32m     17\u001b[0m \u001b[0mprint\u001b[0m\u001b[0;34m(\u001b[0m\u001b[0mprefix_eval\u001b[0m\u001b[0;34m(\u001b[0m\u001b[0;34m'+ 1 * 2 3'\u001b[0m\u001b[0;34m)\u001b[0m\u001b[0;34m)\u001b[0m\u001b[0;34m\u001b[0m\u001b[0;34m\u001b[0m\u001b[0m\n",
      "\u001b[0;31mNameError\u001b[0m: name 'prefix_eval' is not defined"
     ]
    }
   ],
   "source": [
    "def logrecursive_eval(l):\n",
    "    head, tail = l[0], l[1:]\n",
    "    if head in ['+', '*']: \n",
    "        val1, tail = recursive_eval(tail)\n",
    "        val2, tail = recursive_eval(tail)\n",
    "        if head == '+': \n",
    "            return (int(val1)+int(val2), tail)\n",
    "        elif head == '*':  \n",
    "            return (int(val1)*int(val2), tail)\n",
    "    # operator is a number \n",
    "    else:  \n",
    "        return (int(head),tail)\n",
    "        \n",
    "\n",
    "print(prefix_eval('1'))\n",
    "print(prefix_eval('+ 1 2'))\n",
    "print(prefix_eval('+ 1 * 2 3'))\n",
    "print(prefix_eval('+ * 5 2 * 3 + 1 5'))"
   ]
  },
  {
   "cell_type": "code",
   "execution_count": 22,
   "metadata": {
    "scrolled": true
   },
   "outputs": [
    {
     "name": "stdout",
     "output_type": "stream",
     "text": [
      "0\n"
     ]
    }
   ],
   "source": [
    "# YOUR CODE GOES HERE\n",
    "def recursive_eval(l):\n",
    "    head, tail = l[0], l[1:]\n",
    "    if head in ['&', '|', '=>', '<=>']: \n",
    "        val1, tail = recursive_eval(tail)\n",
    "        val2, tail = recursive_eval(tail)\n",
    "        if (head == '&'):\n",
    "            if (val1 == 1 and val2 == 1):\n",
    "                return (1, tail)\n",
    "            else:\n",
    "                return (0, tail)\n",
    "        elif (head == '|'):\n",
    "            if (val1 == 0 and val2 == 0):\n",
    "                return (0, tail)\n",
    "            else:\n",
    "                return 1\n",
    "        elif (head == '=>'):\n",
    "            if (val1 == 1 and val2 == 0):\n",
    "                return (0, tail)\n",
    "            else:\n",
    "                return (1, tail)\n",
    "        elif (head == '<=>'):\n",
    "            if (val1 == 1 and val2 == 1) or (val1 == 0 and val2 == 0):\n",
    "                return (0, tail)\n",
    "            else:\n",
    "                return (1, tail)\n",
    "    else:  \n",
    "        return (int(head),tail)   # operator is a number \n",
    "        \n",
    "def prefix_eval(input_str, dict): \n",
    "    for item in dict.copy():\n",
    "        opp = '~' + item\n",
    "        if (dict[item] == 0):\n",
    "            dict[opp] = 1\n",
    "        else:\n",
    "            dict[opp] = 0\n",
    "    list = input_str.split(' ')\n",
    "    string = list[:1]\n",
    "    for i in range(1,len(list)):\n",
    "        if list[i] in dict:\n",
    "            string.append(dict[list[i]])\n",
    "        else:\n",
    "            string.append(list[i]) #if 0 or 1 just append\n",
    "    res, tail = recursive_eval(string)\n",
    "    return res\n",
    "\n",
    "d = {'foo': 0, 'b': 1}\n",
    "expr1 = '& 0 1'\n",
    "expr2 = '& foo 1'\n",
    "expr3 = '& foo ~b'\n",
    "print(prefix_eval(expr3, d))"
   ]
  },
  {
   "cell_type": "markdown",
   "metadata": {},
   "source": [
    "# QUESTION 4 (EXPECTED) - 1 point"
   ]
  },
  {
   "cell_type": "markdown",
   "metadata": {},
   "source": [
    "\n",
    "Using the recursive prefix evaluator you defined in the previous question \n",
    "answer the following question (you will need to convert the exressions below \n",
    "to prefix). You can use multiple string assignments to assemble more complicated \n",
    "sentences into one big string: \n",
    "\n",
    "\n",
    "Let A be the formula: \n",
    "\n",
    "\\begin{equation} \n",
    "  (( p_{1} \\rightarrow (p2 \\land p_{3})) \\land ((\\neg p_{1})\n",
    "  \\rightarrow (p_{3} \\land p_{4})))\n",
    "\\end{equation} \n",
    "\n",
    "Let B be the formula: \n",
    "\n",
    "\\begin{equation} \n",
    "  (( p_{3} \\rightarrow (\\neg p_{6})) \\land ((\\neg\n",
    "  p_{3}) \\rightarrow (p_{4} \\rightarrow p_{1})))  \n",
    "\\end{equation} \n",
    "\n",
    "Let C be the formula: \n",
    "\n",
    "\\begin{equation} \n",
    "  ((\\neg(p2 \\land p_{5})) \\land (p2 \\rightarrow p_{5})) \n",
    "\\end{equation} \n",
    "\n",
    "Let D be the formula: \n",
    "\n",
    "\\begin{equation} \n",
    "  (\\neg (p_{3} \\rightarrow p_{6}))\n",
    "\\end{equation} \n",
    "\n",
    "Evaluate the formulate E: \n",
    "\\begin{equation} \n",
    "  (( A \\land (B \\land C)) \\rightarrow D)\n",
    "\\end{equation} \n",
    "\n",
    "under the true assignment $I_{1}$, where $I_{1}(p_{1}) = I_{1}(p_{3}) = I_{1}(p_{5}) = false$ \n",
    "and $I_{1}(p2) = I_{1}(p_{4}) = I_{1}(p_{6}) = true$ as well as under the truth assignment \n",
    "$I_{2}$, where $I_{2}(p_{1}) = I_{2}(p_{3}) = I_{2}(p_{5}) = true$ and\n",
    "$I_{2}(p_{2})=I_{2}(p_{4})=I_{2}(p_{6}) = false$. \n"
   ]
  },
  {
   "cell_type": "code",
   "execution_count": 24,
   "metadata": {},
   "outputs": [
    {
     "data": {
      "text/plain": [
       "1"
      ]
     },
     "execution_count": 24,
     "metadata": {},
     "output_type": "execute_result"
    }
   ],
   "source": [
    "# YOUR CODE GOES HERE\n",
    "dict1 = {'p1': 0, 'p2': 1, 'p3': 0, 'p4': 1, 'p5': 0, 'p6': 1}\n",
    "dict2 = {'p1': 1, 'p2': 0, 'p3': 1, 'p4': 0, 'p5': 1, 'p6': 0}\n",
    "A = '& => p1 & p2 p3 => ~p1 & p3 p4'\n",
    "B = '& => p3 ~p6 => ~p3 => p4 p1'\n",
    "C = '& & ~p2 ~p5 => p2 p5'\n",
    "D = '=> ~p3 ~p6'\n",
    "E = '=> & & => p1 & p2 p3 => ~p1 & p3 p4 & & => p3 ~p6 => ~p3 => p4 p1 & & ~p2 ~p5 => p2 p5 => ~p3 ~p6'\n",
    "prefix_eval(E, dict1)\n",
    "prefix_eval(E, dict2)"
   ]
  },
  {
   "cell_type": "markdown",
   "metadata": {},
   "source": [
    "# QUESTION 5 (ADVANCED) - 1 point \n",
    "\n",
    "Implement inference using model-checking using your prefix recursive evaluator to decide whether a knowledge base KB entais some sentence a. To do so express the knowledge base in the prefix notation, enumerate all models for the variables in the dictionary, and check that the sentence a is true in every model in which the KB is true. \n",
    "\n",
    "You can check the implementation to tt_entails in logic.ipynb in the aima_python repository to inform how you implement your solution. Your solution should NOT rely directly on any code in logic.py or logic.ipynb. \n",
    "\n",
    "Check your model checking using the examples that are used in logic.ipynb to check entailment (there are a few with P and Q as variables as well as the one with A, B, C, D, E, F, G. You will need to convert these examples to prefix notation. \n"
   ]
  },
  {
   "cell_type": "code",
   "execution_count": null,
   "metadata": {},
   "outputs": [],
   "source": [
    "# YOUR CODE GOES HERE \n"
   ]
  },
  {
   "cell_type": "markdown",
   "metadata": {},
   "source": [
    "# Extra ideas (no credit) \n",
    "\n",
    "* Implement conversion of the prefix expressions to prefix conjuctive normal form (CNF) based on the recursive evaluator you have implemented. \n",
    "* Based on the recursive evaluator you have implemented do a conversion of expressions in prefix notation to the infix notation of expressions supported by logic.ipynb. Provide 4 test cases that demonstrate the the conversion works by confirming that the result of your evaluator and the logic.ipynb evaluator are the same. \n",
    "\n"
   ]
  },
  {
   "cell_type": "markdown",
   "metadata": {},
   "source": [
    "# Question 6 (Basic) -1 point\n",
    "\n",
    "Consider the following propositional logic knowledge base.\n",
    "\n",
    "It is not sunny this afternoon and it is colder than yesterday.\n",
    "We will go swimming only if it is sunny.\n",
    "If we do not go swimming then we will take a canoe trip.\n",
    "If we take a canoe trip, then we will be home by sunset.\n",
    "Denote:\n",
    "\n",
    "* p = It is sunny this afternoon\n",
    "* q = it is colder than yesterday\n",
    "* r = We will go swimming\n",
    "* s= we will take a canoe trip\n",
    "* t= We will be home by sunset\n",
    "\n",
    "Express this knowledge base using propositional logic using the expression syntax used in logic.ipynb. You can incoprorate any code you need from logic.ipynb and logic.py. Using both model checking and theorem proving inference (you can use the implementations providedin logic.py) show that this knowledge base entails the sentence if it is not sunny this afternoon then we will be home by sunset. "
   ]
  },
  {
   "cell_type": "code",
   "execution_count": 6,
   "metadata": {},
   "outputs": [
    {
     "data": {
      "text/plain": [
       "True"
      ]
     },
     "execution_count": 6,
     "metadata": {},
     "output_type": "execute_result"
    }
   ],
   "source": [
    "# YOUR CODE GOES HERE \n",
    "from utils import *\n",
    "from logic import *\n",
    "\n",
    "trip_kb = PropKB()\n",
    "(p, q, r, s, t) = symbols('P, Q, R, S, T') \n",
    "trip_kb.tell(~p & q)\n",
    "trip_kb.tell(r | '==>' | p)\n",
    "trip_kb.tell(~r | '==>' | s)\n",
    "trip_kb.tell(s | '==>' | t)\n",
    "trip_kb.ask_if_true(~p | '==>' | t)\n",
    "pl_resolution(trip_kb, ~p | '==>' | t)"
   ]
  },
  {
   "cell_type": "markdown",
   "metadata": {},
   "source": [
    "# Question 7 (Basic)  - 1 point \n",
    "\n",
    "Encode the kindship domain described in section 8.3.2 of the textbook using FOL and FolKB implementation in logic.py and encode as facts the relationships between the members of the Simpsons family from the popular TV show:  \n",
    "\n",
    "https://en.wikipedia.org/wiki/Simpson_family\n",
    "\n",
    "\n",
    "Show how the following queries can be answered using this KB: \n",
    "\n",
    "* Who are the children of Homer ? \n",
    "* Who are the parents of Bart ? \n",
    "* Are Lisa and Homer siblings ? \n",
    "* Are Lisa and Bart siblings ? \n"
   ]
  },
  {
   "cell_type": "code",
   "execution_count": 21,
   "metadata": {},
   "outputs": [
    {
     "name": "stdout",
     "output_type": "stream",
     "text": [
      "[{c: Bart}, {c: Lisa}, {c: Maggie}]\n",
      "[{p: Homer}, {p: Marge}]\n",
      "False\n",
      "[]\n"
     ]
    }
   ],
   "source": [
    "# YOUR CODE GOES HERE \n",
    "clauses = []\n",
    "clauses.append(expr('Parent(p,c) ==> Child(c,p)'))\n",
    "clauses.append(expr('Parent(p,x) & Parent(p,y) ==> Sibling(x,y)'))\n",
    "simpsons_kb = FolKB(clauses) \n",
    "simpsons_kb.tell(expr('Parent(Homer, Bart)'))\n",
    "simpsons_kb.tell(expr('Parent(Marge, Bart)'))\n",
    "simpsons_kb.tell(expr('Parent(Homer, Lisa)'))\n",
    "simpsons_kb.tell(expr('Parent(Marge, Lisa)'))\n",
    "simpsons_kb.tell(expr('Parent(Homer, Maggie)'))\n",
    "simpsons_kb.tell(expr('Parent(Marge, Maggie)'))\n",
    "answer = fol_fc_ask(simpsons_kb, expr('Parent(Homer,c)'))\n",
    "print(list(answer))\n",
    "answer2 = fol_fc_ask(simpsons_kb, expr('Child(Bart,p)'))\n",
    "print(list(answer2))\n",
    "simpsons_kb = FolKB(clauses)\n",
    "answer3 = simpsons_kb.ask(expr('Sibling(Lisa, Homer)'))\n",
    "print(answer3 != False)\n",
    "answer4 = fol_fc_ask(simpsons_kb, expr('Sibling(Lisa, Bart)'))\n",
    "print(list(answer4))"
   ]
  },
  {
   "cell_type": "markdown",
   "metadata": {
    "tags": []
   },
   "source": [
    "# QUESTION 8 (EXPECTED) 1 point\n",
    "\n",
    "In this question we explore Prolog which is a programming language based on logic. We won't go into details but just wanted to give you a flavor of the syntax and how it connects to what we have learned. For this question you \n",
    "will NOT be using the notebook so your answer should just be the source code. We will use http://tau-prolog.org/ which is a Prolog implementation that can run in a browser. When you access the webpage there is a text window labeled try it for entering your knowledge base and under it t\n",
    "here is a text entry field for entering your query. \n",
    "\n",
    "For example type in the Try it window and press enter: \n",
    "\n",
    "```Prolog\n",
    "likes(sam, salad).\n",
    "likes(dean, pie).\n",
    "likes(sam, apples).\n",
    "likes(dean, whiskey).\n",
    "```\n",
    "\n",
    "Then enter the query: \n",
    "```Prolog \n",
    "likes(sam,X).\n",
    "```\n",
    "When you press Enter once you will get X=apples. and X=salad. Note the periods at the end of each statement. \n",
    "\n",
    "Encode the kinship domain from the previous question in Prolog and answer the queries from the previous question. Notice that in Prolog the constants start with lower case letters and the variables start with upper case letters.\n",
    "\n",
    "Provide your code for the KB and queries using markup. See the syntax for Prolog of this cell by double clicking for editing. \n",
    "\n"
   ]
  },
  {
   "cell_type": "markdown",
   "metadata": {},
   "source": [
    "# YOUR CODE GOES HERE (USING MARKDOWN)\n",
    "```Prolog\n",
    "sibling(X, Y)      :- parent(P, X), parent(P, Y).\n",
    "child(C, P)        :- parent(P, C).\n",
    "parent(homer,bart).\n",
    "parent(homer,lisa).\n",
    "parent(homer,maggie).\n",
    "parent(marge,bart).\n",
    "parent(marge,lisa).\n",
    "parent(marge,maggie).\n",
    "```\n",
    "\n",
    "```Prolog\n",
    "parent(homer,C).\n",
    "parent(P,bart).\n",
    "sibling(homer,lisa).\n",
    "sibling(bart,lisa).\n",
    "```\n"
   ]
  },
  {
   "cell_type": "markdown",
   "metadata": {},
   "source": [
    "# QUESTION 9 (EXPECTED) 1 point \n",
    "\n",
    "\n",
    "## Legoworld \n",
    "\n",
    "\n",
    "In this question we explore the use of FOL to encode knowledge about the objects \n",
    "and arrangement of a simple world created by different lego pieces. Our world \n",
    "will consist of making simple structure by placing lego pieces on top of each other. \n",
    "Each lego piece will be identified by a unique identifier (the letters in the figure below). \n",
    "\n",
    "Let's look at a specific example where each piece is labeled by a letter: \n",
    "\n",
    "<img src=\"lego_letters.png\" width=\"60%\"/>\n",
    "\n",
    "This corresponds to the following picture: \n",
    "\n",
    "<img src=\"lego2.png\" width=\"60%\"/>\n",
    "\n",
    "\n",
    "\n",
    "We can use the following predicates to model the world: \n",
    "* OnPlate(p): p is attached to the bottom plate \n",
    "* On(p1,p2): piece p1 is placed on top of piece p2 \n",
    "* AtLeft(p1,p2): piece p1 and piece p2 are placed on the plate, and piece p1 is direct at the left of p2 \n",
    "* Color(p,c): The color of piece p is c (Red, Grey, Brown, White, Yellow, Blue) \n",
    "* Type(p,t): The type of piece p is t (Brick, Plate, Tile) \n",
    "\n",
    "<img src=\"lego3.png\" width=\"20%\"/>\n",
    "\n",
    "\n",
    "Each pieces will be identified by the letters appearing in the picture. The thicker brick with studs will have type  Brick, the thinner brick with studs is of type Plate, and the one that is flat on the top is of type Tile. \n",
    "\n",
    "\n",
    "Use the FO KB implementation in logic.py to: \n",
    "\n",
    "1. Write a database of facts which models the world in the picture. For example you can use clauses.append(expr('TypeOf(A,Brick)')) to state that lego piece A is a Brick. \n",
    "\n",
    "2. Based exclusively on using these predicates (OnPlate, On, AtLeft), define the following predicates:\n",
    "    * Base(b1, b2): b2 is the base of the tower containing b1.\n",
    "    * Base_at_right(b1, b2): b1 and b2 are on the plate, and b2 is at the right (but perhaps not directly) of b1.\n",
    "    * Object_at_right(b1, b2): b1 is in a pile which is at the right (but perhaps not directly) of b2.\n",
    "    \n",
    "    \n",
    "The above predicates must work for any world defined using the facts specified by on_plate, on, \n",
    "at_left not just the specific example encoded above. In other words these predicates should be defined \n",
    "in terms of the existing predicates and variables. As an example here is the definition of Base. \n",
    "\n",
    "    * clauses.append(expr('OnPlate(x) ==> Base(x,x)'))\n",
    "    * clauses.append(expr('On(x,z) & Base (z,y) ==> Base(x,y)'))\n",
    "    \n",
    "This is a recursive definition it is a good idea to see how it works by doing substitutions by hand. \n",
    "\n",
    "\n",
    "3. Using the KB you created answer the following queries: \n",
    "    * Is piece B on top of piece C? \n",
    "    * What is the type and color of the piece on top of C? \n",
    "    * What is the type of the base of H? \n",
    "    * What are the bricks that are right of C? \n",
    "    * What are all the bricks that are on top of i ? \n",
    "\n",
    "\n",
    "\n",
    "\n"
   ]
  },
  {
   "cell_type": "code",
   "execution_count": null,
   "metadata": {},
   "outputs": [],
   "source": [
    "clauses = []\n",
    "clauses.append(expr('TypeOf(A,Brick)'))\n",
    "clauses.append(expr('TypeOf(B,Tile)'))\n",
    "clauses.append(expr('TypeOf(C,Plate)'))\n",
    "clauses.append(expr('TypeOf(D,Brick)'))\n",
    "clauses.append(expr('TypeOf(E,Tile)'))\n",
    "clauses.append(expr('TypeOf(F,Brick)'))\n",
    "clauses.append(expr('TypeOf(G,Tile)'))\n",
    "clauses.append(expr('TypeOf(H,Brick)'))\n",
    "clauses.append(expr('TypeOf(I,Brick)'))\n",
    "clauses.append(expr('TypeOf(J,Plate)'))\n",
    "clauses.append(expr('Color(A,Red)'))\n",
    "clauses.append(expr('Color(B,White)'))\n",
    "clauses.append(expr('Color(C,Brown)'))\n",
    "clauses.append(expr('Color(D,Grey)'))\n",
    "clauses.append(expr('Color(E,Brown)'))\n",
    "clauses.append(expr('Color(F,Red)'))\n",
    "clauses.append(expr('Color(G,Brown)'))\n",
    "clauses.append(expr('Color(H,Red)'))\n",
    "clauses.append(expr('Color(I,Blue)'))\n",
    "clauses.append(expr('Color(J,Yellow)'))\n",
    "clauses.append(expr('OnPlate(A)'))\n",
    "clauses.append(expr('OnPlate(D)'))\n",
    "clauses.append(expr('OnPlate(F)'))\n",
    "clauses.append(expr('OnPlate(G)'))\n",
    "clauses.append(expr('On(C,D)'))\n",
    "clauses.append(expr('On(B,C)'))\n",
    "clauses.append(expr('On(E,F)'))\n",
    "clauses.append(expr('On(I,J)'))\n",
    "clauses.append(expr('On(H,I)'))\n",
    "clauses.append(expr('On(G,H)'))\n",
    "clauses.append(expr('AtLeft(A,D)'))\n",
    "clauses.append(expr('AtLeft(D,F)'))\n",
    "clauses.append(expr('AtLeft(F,J)'))\n",
    "clauses.append(expr('OnPlate(x) ==> Base(x,x)'))\n",
    "clauses.append(expr('On(x,z) & Base (z,y) ==> Base(x,y)'))\n",
    "clauses.append(expr('OnPlate(x) & OnPlate(y) & AtLeft(x,y) ==> BaseAtRight(x,y)'))\n",
    "\n"
   ]
  },
  {
   "cell_type": "markdown",
   "metadata": {},
   "source": [
    "# QUESTION 10 (ADVANCED) 1 point \n",
    "\n",
    "\n",
    "This question is more advanced and open ended. I provide two options. You only need to implement one \n",
    "of the two options to get full credit for this question. You are welcome to implement both but \n",
    "you will still get 1 point. \n",
    "\n",
    "## Option 1 \n",
    "\n",
    "Extend the Legoworld knowledge base with a predicate to determine if a brick is part of an unstable \n",
    "tower. Any brick placed on top of a tile results in an unstable tower. For example the brown plate \n",
    "and grey brick in the middle are unstable but the red brick under the tile in the middle is stable. \n",
    "This is a trickier predicate to define so show a few cases to ensure that it works as expected. \n",
    "\n",
    "<img src=\"lego1.png\" width=\"40%\"/>\n",
    "\n",
    "Provide a simple natural language processing interface to the LegoWorld that takes input from \n",
    "the user and returns the results in more natural lanuage. For example you could have the following \n",
    "dialog: \n",
    "\n",
    "* User: What color is brick B ? \n",
    "* Computer: Brick B is Red. \n",
    "* User: Is there a brick that is on top of a tile? \n",
    "* Computer: Yes, brick D is on top of a tile. \n",
    "etc \n",
    "\n",
    "You will basically write a simple translation layer from simplified English to FOL tell and ask requests and back to simplified English. \n",
    "\n",
    "\n",
    "This question is inspired by the classic natural understanding work using logic: https://en.wikipedia.org/wiki/SHRDLU\n",
    "\n",
    "\n",
    "\n",
    "## Option 2 \n",
    "\n",
    "\n",
    "This question explores the automatic constructions of a first-order logic knowledge base from a web resource and is more open ended than the other ones. The website https://www.songfacts.com/ contains a large variety of facts about music. Check the https://www.songfacts.com/categories link for some categories. Using selenium Python bindings https://selenium-python.readthedocs.io/ access the webpage and scrape at least three categories. Your code should scrape the information from the pages and convert it into relationships and facts in first-order logic using the syntax of expressions in logic.ipynb. Once you build your knowledge-base then write 4 non-trivial queries that show-case the expressiveness of FOL. These queries should not be possible to be answered easily using the web interface i.e they should have some logical connectives, more than one possible answer etc. The translation of the song facts from the web page to FOL should NOT be done by hand but using the web scraping tool you develop. You can use multiple cells in your answer."
   ]
  },
  {
   "cell_type": "code",
   "execution_count": null,
   "metadata": {},
   "outputs": [],
   "source": []
  },
  {
   "cell_type": "code",
   "execution_count": null,
   "metadata": {},
   "outputs": [],
   "source": []
  },
  {
   "cell_type": "code",
   "execution_count": null,
   "metadata": {},
   "outputs": [],
   "source": []
  }
 ],
 "metadata": {
  "kernelspec": {
   "display_name": "Python 3",
   "language": "python",
   "name": "python3"
  },
  "language_info": {
   "codemirror_mode": {
    "name": "ipython",
    "version": 3
   },
   "file_extension": ".py",
   "mimetype": "text/x-python",
   "name": "python",
   "nbconvert_exporter": "python",
   "pygments_lexer": "ipython3",
   "version": "3.9.2"
  }
 },
 "nbformat": 4,
 "nbformat_minor": 4
}
